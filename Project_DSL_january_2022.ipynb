{
 "cells": [
  {
   "cell_type": "markdown",
   "id": "f42b5a90",
   "metadata": {},
   "source": [
    "### Import Libraries"
   ]
  },
  {
   "cell_type": "code",
   "execution_count": 208,
   "id": "22df9c7c",
   "metadata": {},
   "outputs": [],
   "source": [
    "# Numeric\n",
    "import numpy as np\n",
    "import pandas as pd\n",
    "\n",
    "\n",
    "# Tools\n",
    "import os, sys\n",
    "import re\n",
    "import string\n",
    "import csv\n",
    "import itertools\n",
    "\n",
    "\n",
    "# # Natural language processing\n",
    "# import spacy\n",
    "\n",
    "# from nltk.tokenize import word_tokenize\n",
    "from nltk.stem.wordnet import WordNetLemmatizer\n",
    "# from nltk.stem import PorterStemmer\n",
    "# from nltk.corpus import stopwords as sw\n",
    "# from nltk.stem.snowball import SnowballStemmer\n",
    "\n",
    "\n",
    "# Preprocessing and Features engineering\n",
    "from sklearn.preprocessing import StandardScaler\n",
    "from sklearn.preprocessing import MinMaxScaler\n",
    "from sklearn.preprocessing import MaxAbsScaler\n",
    "\n",
    "from sklearn.feature_extraction.text import TfidfVectorizer\n",
    "from sklearn.decomposition import TruncatedSVD\n",
    "from sklearn.decomposition import PCA\n",
    "from sklearn.feature_selection import chi2\n",
    "\n",
    "\n",
    "\n",
    "# Clustering\n",
    "from sklearn.cluster import KMeans, DBSCAN, AgglomerativeClustering\n",
    "\n",
    "\n",
    "\n",
    "# Classifiers\n",
    "from sklearn.model_selection import GridSearchCV\n",
    "from sklearn.ensemble import RandomForestClassifier\n",
    "from sklearn.svm import LinearSVC\n",
    "from sklearn.linear_model import LogisticRegression\n",
    "from sklearn.svm import LinearSVC\n",
    "from sklearn.svm import SVC\n",
    "from sklearn.naive_bayes import MultinomialNB\n",
    "from sklearn.naive_bayes import ComplementNB\n",
    "from sklearn.neighbors import NearestNeighbors\n",
    "from sklearn.pipeline import make_pipeline\n",
    "\n",
    "\n",
    "\n",
    "# Metrics\n",
    "from sklearn.metrics import f1_score\n",
    "from sklearn.metrics import confusion_matrix\n",
    "from sklearn.metrics import roc_curve, auc, roc_auc_score\n",
    "\n",
    "from sklearn.model_selection import cross_val_predict\n",
    "from sklearn.model_selection import cross_val_score\n",
    "\n",
    "from sklearn.model_selection import train_test_split\n",
    "from sklearn.model_selection import train_test_split\n",
    "\n",
    "from sklearn.pipeline import make_pipeline\n",
    "from sklearn.compose import make_column_transformer\n",
    "from sklearn.preprocessing import OneHotEncoder\n",
    "from sklearn.feature_extraction.text import CountVectorizer\n",
    "from sklearn.feature_extraction.text import TfidfVectorizer\n",
    "\n",
    "\n",
    "# Visualization\n",
    "import seaborn as sns\n",
    "import matplotlib.pyplot as plt\n",
    "from sklearn.manifold import TSNE\n",
    "import matplotlib.pyplot as plt\n",
    "%matplotlib inline"
   ]
  },
  {
   "cell_type": "markdown",
   "id": "c84e0926",
   "metadata": {},
   "source": [
    "### Some utilities"
   ]
  },
  {
   "cell_type": "code",
   "execution_count": 209,
   "id": "1e12d0bb",
   "metadata": {},
   "outputs": [],
   "source": [
    "# def print_f1score(scores):\n",
    "#     \"\"\"Pritn the evaluated f1scores, their mean and standard deviation.\"\"\"\n",
    "#     print(f\"Weighted-f1 for each iteration: {scores}\")\n",
    "#     mean_weighted_f1 = scores.mean()\n",
    "#     std_weighted_f1 = scores.std() * 2\n",
    "#     print(f\"Weighted-f1 (statistics): {mean_weighted_f1:.3f} (+/- {std_weighted_f1:.3f})\")"
   ]
  },
  {
   "cell_type": "code",
   "execution_count": 210,
   "id": "e987ab5a",
   "metadata": {},
   "outputs": [],
   "source": [
    "# def write_to_file(filename, labels):\n",
    "#     \"\"\"Write the evaluated labels to a CSV file.\"\"\"\n",
    "#     with open(filename, mode='w', encoding='UTF-8') as f:\n",
    "#         fwriter = csv.writer(f, delimiter=',', quotechar='\"', quoting=csv.QUOTE_MINIMAL)\n",
    "#         fwriter.writerow([\"Id\", \"Predicted\"])\n",
    "#         for Id, label in enumerate(labels):\n",
    "#             fwriter.writerow([Id, label])"
   ]
  },
  {
   "cell_type": "markdown",
   "id": "9e8593e9",
   "metadata": {},
   "source": [
    "### Data exploration"
   ]
  },
  {
   "cell_type": "code",
   "execution_count": 211,
   "id": "bb6bfca5",
   "metadata": {},
   "outputs": [
    {
     "name": "stdout",
     "output_type": "stream",
     "text": [
      "224994\n"
     ]
    },
    {
     "data": {
      "text/html": [
       "<div>\n",
       "<style scoped>\n",
       "    .dataframe tbody tr th:only-of-type {\n",
       "        vertical-align: middle;\n",
       "    }\n",
       "\n",
       "    .dataframe tbody tr th {\n",
       "        vertical-align: top;\n",
       "    }\n",
       "\n",
       "    .dataframe thead th {\n",
       "        text-align: right;\n",
       "    }\n",
       "</style>\n",
       "<table border=\"1\" class=\"dataframe\">\n",
       "  <thead>\n",
       "    <tr style=\"text-align: right;\">\n",
       "      <th></th>\n",
       "      <th>sentiment</th>\n",
       "      <th>ids</th>\n",
       "      <th>date</th>\n",
       "      <th>flag</th>\n",
       "      <th>user</th>\n",
       "      <th>text</th>\n",
       "    </tr>\n",
       "  </thead>\n",
       "  <tbody>\n",
       "    <tr>\n",
       "      <th>0</th>\n",
       "      <td>1</td>\n",
       "      <td>1833972543</td>\n",
       "      <td>Mon May 18 01:08:27 PDT 2009</td>\n",
       "      <td>NO_QUERY</td>\n",
       "      <td>Killandra</td>\n",
       "      <td>@MissBianca76 Yes, talking helps a lot.. going...</td>\n",
       "    </tr>\n",
       "    <tr>\n",
       "      <th>1</th>\n",
       "      <td>1</td>\n",
       "      <td>1980318193</td>\n",
       "      <td>Sun May 31 06:23:17 PDT 2009</td>\n",
       "      <td>NO_QUERY</td>\n",
       "      <td>IMlisacowan</td>\n",
       "      <td>SUNSHINE. livingg itttt. imma lie on the grass...</td>\n",
       "    </tr>\n",
       "    <tr>\n",
       "      <th>2</th>\n",
       "      <td>1</td>\n",
       "      <td>1994409198</td>\n",
       "      <td>Mon Jun 01 11:52:54 PDT 2009</td>\n",
       "      <td>NO_QUERY</td>\n",
       "      <td>yaseminx3</td>\n",
       "      <td>@PleaseBeMine Something for your iphone</td>\n",
       "    </tr>\n",
       "    <tr>\n",
       "      <th>3</th>\n",
       "      <td>0</td>\n",
       "      <td>1824749377</td>\n",
       "      <td>Sun May 17 02:45:34 PDT 2009</td>\n",
       "      <td>NO_QUERY</td>\n",
       "      <td>no_surprises</td>\n",
       "      <td>@GabrielSaporta couldn't get in to the after p...</td>\n",
       "    </tr>\n",
       "    <tr>\n",
       "      <th>4</th>\n",
       "      <td>0</td>\n",
       "      <td>2001199113</td>\n",
       "      <td>Tue Jun 02 00:08:07 PDT 2009</td>\n",
       "      <td>NO_QUERY</td>\n",
       "      <td>Rhi_ShortStack</td>\n",
       "      <td>@bradiewebbstack awww is andy being mean again...</td>\n",
       "    </tr>\n",
       "  </tbody>\n",
       "</table>\n",
       "</div>"
      ],
      "text/plain": [
       "   sentiment         ids                          date      flag  \\\n",
       "0          1  1833972543  Mon May 18 01:08:27 PDT 2009  NO_QUERY   \n",
       "1          1  1980318193  Sun May 31 06:23:17 PDT 2009  NO_QUERY   \n",
       "2          1  1994409198  Mon Jun 01 11:52:54 PDT 2009  NO_QUERY   \n",
       "3          0  1824749377  Sun May 17 02:45:34 PDT 2009  NO_QUERY   \n",
       "4          0  2001199113  Tue Jun 02 00:08:07 PDT 2009  NO_QUERY   \n",
       "\n",
       "             user                                               text  \n",
       "0       Killandra  @MissBianca76 Yes, talking helps a lot.. going...  \n",
       "1     IMlisacowan  SUNSHINE. livingg itttt. imma lie on the grass...  \n",
       "2       yaseminx3           @PleaseBeMine Something for your iphone   \n",
       "3    no_surprises  @GabrielSaporta couldn't get in to the after p...  \n",
       "4  Rhi_ShortStack  @bradiewebbstack awww is andy being mean again...  "
      ]
     },
     "execution_count": 211,
     "metadata": {},
     "output_type": "execute_result"
    }
   ],
   "source": [
    "directory = \"DSL2122_january_dataset/\"\n",
    "dev_dataset = pd.read_csv(directory + \"development.csv\")\n",
    "eval_dataset = pd.read_csv(directory + \"evaluation.csv\")\n",
    "\n",
    "print(dev_dataset.iloc[:,0].size)\n",
    "dev_dataset.head()"
   ]
  },
  {
   "cell_type": "code",
   "execution_count": 212,
   "id": "0e7d0297",
   "metadata": {},
   "outputs": [
    {
     "name": "stdout",
     "output_type": "stream",
     "text": [
      "<class 'pandas.core.frame.DataFrame'>\n",
      "RangeIndex: 224994 entries, 0 to 224993\n",
      "Data columns (total 6 columns):\n",
      " #   Column     Non-Null Count   Dtype \n",
      "---  ------     --------------   ----- \n",
      " 0   sentiment  224994 non-null  int64 \n",
      " 1   ids        224994 non-null  int64 \n",
      " 2   date       224994 non-null  object\n",
      " 3   flag       224994 non-null  object\n",
      " 4   user       224994 non-null  object\n",
      " 5   text       224994 non-null  object\n",
      "dtypes: int64(2), object(4)\n",
      "memory usage: 10.3+ MB\n"
     ]
    }
   ],
   "source": [
    "dev_dataset.info()"
   ]
  },
  {
   "cell_type": "code",
   "execution_count": 213,
   "id": "e9e5378d",
   "metadata": {},
   "outputs": [
    {
     "name": "stdout",
     "output_type": "stream",
     "text": [
      "Development dataset size: 224994\n",
      "Evaluation dataset size: 74999\n"
     ]
    }
   ],
   "source": [
    "print(f\"Development dataset size: {dev_dataset['text'].size}\")\n",
    "print(f\"Evaluation dataset size: {eval_dataset['text'].size}\")"
   ]
  },
  {
   "cell_type": "code",
   "execution_count": 214,
   "id": "0e2409c1",
   "metadata": {},
   "outputs": [
    {
     "name": "stderr",
     "output_type": "stream",
     "text": [
      "/tmp/ipykernel_15902/1446544036.py:13: UserWarning: Matplotlib is currently using module://matplotlib_inline.backend_inline, which is a non-GUI backend, so cannot show the figure.\n",
      "  fig.show()\n"
     ]
    },
    {
     "data": {
      "image/png": "[encoded data removed]",
      "text/plain": [
       "<Figure size 1800x1200 with 1 Axes>"
      ]
     },
     "metadata": {
      "needs_background": "light"
     },
     "output_type": "display_data"
    }
   ],
   "source": [
    "\n",
    "# compute percentages\n",
    "pos_perc = 100 * dev_dataset[dev_dataset['sentiment'] == 1].size / dev_dataset.size\n",
    "neg_perc = 100 - pos_perc\n",
    "\n",
    "fig, ax = plt.subplots(dpi=300)\n",
    "ax = sns.countplot(x = 'sentiment', data = dev_dataset,\n",
    "              palette = sns.cubehelix_palette(2, start=.4, rot=-.75, light=.45, dark=.3))\n",
    "ax.set_ylabel('Num of tweet')\n",
    "ax.set_xlabel('Class label')\n",
    "ax.set_title('Distribution of sentiment')\n",
    "ax.legend(handles=ax.patches, labels=(f'positive: {pos_perc:.1f}%', f'negative: {neg_perc:.1f}%'))\n",
    "# fig.tight_layout()\n",
    "fig.show()"
   ]
  },
  {
   "cell_type": "markdown",
   "id": "3c1b05f5",
   "metadata": {},
   "source": [
    "### Preprocessing"
   ]
  },
  {
   "cell_type": "code",
   "execution_count": 215,
   "id": "60b30ab4",
   "metadata": {},
   "outputs": [
    {
     "data": {
      "text/plain": [
       "sentiment    False\n",
       "ids          False\n",
       "date         False\n",
       "flag         False\n",
       "user         False\n",
       "text         False\n",
       "dtype: bool"
      ]
     },
     "execution_count": 215,
     "metadata": {},
     "output_type": "execute_result"
    }
   ],
   "source": [
    "dev_dataset.isnull().any()"
   ]
  },
  {
   "cell_type": "code",
   "execution_count": 216,
   "id": "61c9c5a2",
   "metadata": {},
   "outputs": [
    {
     "name": "stdout",
     "output_type": "stream",
     "text": [
      "224716\n"
     ]
    }
   ],
   "source": [
    "ds = dev_dataset.copy()\n",
    "# how many ids are duplicates? around 200\n",
    "ds.drop_duplicates(['ids'],inplace=True)\n",
    "print(ds.iloc[:,0].size)"
   ]
  },
  {
   "cell_type": "code",
   "execution_count": 217,
   "id": "ec927b53",
   "metadata": {},
   "outputs": [
    {
     "name": "stdout",
     "output_type": "stream",
     "text": [
      "1\n"
     ]
    }
   ],
   "source": [
    "ds = dev_dataset.copy()\n",
    "# how many flags are there? only one\n",
    "ds.drop_duplicates(['flag'],inplace=True)\n",
    "print(ds.iloc[:,0].size)"
   ]
  },
  {
   "cell_type": "code",
   "execution_count": 218,
   "id": "429be9f9",
   "metadata": {},
   "outputs": [
    {
     "name": "stdout",
     "output_type": "stream",
     "text": [
      "10647\n"
     ]
    }
   ],
   "source": [
    "ds = dev_dataset.copy()\n",
    "# how many user are there? around 10000\n",
    "ds.drop_duplicates(['user'],inplace=True)\n",
    "print(ds.iloc[:,0].size)"
   ]
  },
  {
   "cell_type": "code",
   "execution_count": 219,
   "id": "bac8bffe",
   "metadata": {},
   "outputs": [
    {
     "name": "stdout",
     "output_type": "stream",
     "text": [
      "223106\n"
     ]
    }
   ],
   "source": [
    "ds = dev_dataset.copy()\n",
    "# how many copies of text are there? around 1500\n",
    "ds.drop_duplicates(['text'],inplace=True)\n",
    "print(ds.iloc[:,0].size)"
   ]
  },
  {
   "cell_type": "code",
   "execution_count": 220,
   "id": "c37404a4",
   "metadata": {},
   "outputs": [
    {
     "name": "stdout",
     "output_type": "stream",
     "text": [
      "Length of dataframe after NaNs are removed: 224994\n"
     ]
    }
   ],
   "source": [
    "#How many nan value there are? 0\n",
    "ds = dev_dataset.copy()\n",
    "ds.dropna(subset=['ids', 'user', 'text', 'date', 'flag'])\n",
    "print(\"Length of dataframe after NaNs are removed:\", len(ds))"
   ]
  },
  {
   "cell_type": "code",
   "execution_count": 221,
   "id": "0c387329",
   "metadata": {},
   "outputs": [
    {
     "data": {
      "text/html": [
       "<div>\n",
       "<style scoped>\n",
       "    .dataframe tbody tr th:only-of-type {\n",
       "        vertical-align: middle;\n",
       "    }\n",
       "\n",
       "    .dataframe tbody tr th {\n",
       "        vertical-align: top;\n",
       "    }\n",
       "\n",
       "    .dataframe thead th {\n",
       "        text-align: right;\n",
       "    }\n",
       "</style>\n",
       "<table border=\"1\" class=\"dataframe\">\n",
       "  <thead>\n",
       "    <tr style=\"text-align: right;\">\n",
       "      <th></th>\n",
       "      <th>sentiment</th>\n",
       "      <th>user</th>\n",
       "      <th>text</th>\n",
       "      <th>text_bis</th>\n",
       "    </tr>\n",
       "  </thead>\n",
       "  <tbody>\n",
       "    <tr>\n",
       "      <th>0</th>\n",
       "      <td>1</td>\n",
       "      <td>Killandra</td>\n",
       "      <td>@MissBianca76 Yes, talking helps a lot.. going...</td>\n",
       "      <td>@MissBianca76 Yes, talking helps a lot.. going...</td>\n",
       "    </tr>\n",
       "    <tr>\n",
       "      <th>1</th>\n",
       "      <td>1</td>\n",
       "      <td>IMlisacowan</td>\n",
       "      <td>SUNSHINE. livingg itttt. imma lie on the grass...</td>\n",
       "      <td>SUNSHINE. livingg itttt. imma lie on the grass...</td>\n",
       "    </tr>\n",
       "    <tr>\n",
       "      <th>2</th>\n",
       "      <td>1</td>\n",
       "      <td>yaseminx3</td>\n",
       "      <td>@PleaseBeMine Something for your iphone</td>\n",
       "      <td>@PleaseBeMine Something for your iphone</td>\n",
       "    </tr>\n",
       "    <tr>\n",
       "      <th>3</th>\n",
       "      <td>0</td>\n",
       "      <td>no_surprises</td>\n",
       "      <td>@GabrielSaporta couldn't get in to the after p...</td>\n",
       "      <td>@GabrielSaporta couldn't get in to the after p...</td>\n",
       "    </tr>\n",
       "    <tr>\n",
       "      <th>4</th>\n",
       "      <td>0</td>\n",
       "      <td>Rhi_ShortStack</td>\n",
       "      <td>@bradiewebbstack awww is andy being mean again...</td>\n",
       "      <td>@bradiewebbstack awww is andy being mean again...</td>\n",
       "    </tr>\n",
       "  </tbody>\n",
       "</table>\n",
       "</div>"
      ],
      "text/plain": [
       "   sentiment            user  \\\n",
       "0          1       Killandra   \n",
       "1          1     IMlisacowan   \n",
       "2          1       yaseminx3   \n",
       "3          0    no_surprises   \n",
       "4          0  Rhi_ShortStack   \n",
       "\n",
       "                                                text  \\\n",
       "0  @MissBianca76 Yes, talking helps a lot.. going...   \n",
       "1  SUNSHINE. livingg itttt. imma lie on the grass...   \n",
       "2           @PleaseBeMine Something for your iphone    \n",
       "3  @GabrielSaporta couldn't get in to the after p...   \n",
       "4  @bradiewebbstack awww is andy being mean again...   \n",
       "\n",
       "                                            text_bis  \n",
       "0  @MissBianca76 Yes, talking helps a lot.. going...  \n",
       "1  SUNSHINE. livingg itttt. imma lie on the grass...  \n",
       "2           @PleaseBeMine Something for your iphone   \n",
       "3  @GabrielSaporta couldn't get in to the after p...  \n",
       "4  @bradiewebbstack awww is andy being mean again...  "
      ]
     },
     "execution_count": 221,
     "metadata": {},
     "output_type": "execute_result"
    }
   ],
   "source": [
    "dev_dataset['text_bis'] = dev_dataset.apply(lambda row: row.text, axis = 1)\n",
    "df_done = dev_dataset.drop(columns=[\"flag\", \"ids\", \"date\"])\n",
    "\n",
    "eval_dataset['text_bis'] = eval_dataset.apply(lambda row: row.text, axis = 1)\n",
    "df_eval_done = eval_dataset.drop(columns=[\"flag\", \"ids\", \"date\"])\n",
    "\n",
    "df_done.head()"
   ]
  },
  {
   "cell_type": "markdown",
   "id": "fe85887f",
   "metadata": {},
   "source": [
    "###  Text processing"
   ]
  },
  {
   "cell_type": "code",
   "execution_count": 222,
   "id": "08940405",
   "metadata": {},
   "outputs": [],
   "source": [
    "# Defining dictionary containing all emojis with their meanings.\n",
    "emojis = {':)': 'smile', ':-)': 'smile', ';d': 'wink', ':-E': 'vampire', ':(': 'sad', \n",
    "          ':-(': 'sad', ':-<': 'sad', ':P': 'raspberry', ':O': 'surprised',\n",
    "          ':-@': 'shocked', ':@': 'shocked',':-$': 'confused', ':\\\\': 'annoyed', \n",
    "          ':#': 'mute', ':X': 'mute', ':^)': 'smile', ':-&': 'confused', '$_$': 'greedy',\n",
    "          '@@': 'eyeroll', ':-!': 'confused', ':-D': 'smile', ':-0': 'yell', 'O.o': 'confused',\n",
    "          '<(-_-)>': 'robot', 'd[-_-]b': 'dj', \":'-)\": 'sadsmile', ';)': 'wink', \n",
    "          ';-)': 'wink', 'O:-)': 'angel','O*-)': 'angel','(:-D': 'gossip', '=^.^=': 'cat'}\n",
    "\n",
    "## Defining set containing all stopwords in english.\n",
    "stopwordlist = ['a', 'about', 'above', 'after', 'again', 'ain', 'all', 'am', 'an',\n",
    "             'and','any','are', 'as', 'at', 'be', 'because', 'been', 'before',\n",
    "             'being', 'below', 'between','both', 'by', 'can', 'd', 'did', 'do',\n",
    "             'does', 'doing', 'down', 'during', 'each','few', 'for', 'from', \n",
    "             'further', 'had', 'has', 'have', 'having', 'he', 'her', 'here',\n",
    "             'hers', 'herself', 'him', 'himself', 'his', 'how', 'i', 'if', 'in',\n",
    "             'into','is', 'it', 'its', 'itself', 'just', 'll', 'm', 'ma',\n",
    "             'me', 'more', 'most','my', 'myself', 'now', 'o', 'of', 'on', 'once',\n",
    "             'only', 'or', 'other', 'our', 'ours','ourselves', 'out', 'own', 're',\n",
    "             's', 'same', 'she', \"shes\", 'should', \"shouldve\",'so', 'some', 'such',\n",
    "             't', 'than', 'that', \"thatll\", 'the', 'their', 'theirs', 'them',\n",
    "             'themselves', 'then', 'there', 'these', 'they', 'this', 'those', \n",
    "             'through', 'to', 'too','under', 'until', 'up', 've', 'very', 'was',\n",
    "             'we', 'were', 'what', 'when', 'where','which','while', 'who', 'whom',\n",
    "             'why', 'will', 'with', 'won', 'y', 'you', \"youd\",\"youll\", \"youre\",\n",
    "             \"youve\", 'your', 'yours', 'yourself', 'yourselves']\n",
    "\n",
    "def preprocess(textdata):\n",
    "    processedText = []\n",
    "    \n",
    "#     # Create Lemmatizer and Stemmer.\n",
    "#     wordLemm = WordNetLemmatizer()\n",
    "    \n",
    "    # Defining regex patterns.\n",
    "    urlPattern        = r\"((http://)[^ ]*|(https://)[^ ]*|( www\\.)[^ ]*)\"\n",
    "    userPattern       = '@[^\\s]+'\n",
    "    alphaPattern      = \"[^a-zA-Z0-9]\"\n",
    "    sequencePattern   = r\"(.)\\1\\1+\"\n",
    "    seqReplacePattern = r\"\\1\\1\"\n",
    "    \n",
    "    for tweet in textdata:\n",
    "        tweet = tweet.lower()\n",
    "        \n",
    "        # Replace all URls with 'URL'\n",
    "        tweet = re.sub(urlPattern,' URL',tweet)\n",
    "        # Replace all emojis.\n",
    "        for emoji in emojis.keys():\n",
    "            tweet = tweet.replace(emoji, \"EMOJI\" + emojis[emoji])        \n",
    "        # Replace @USERNAME to 'USER'.\n",
    "        tweet = re.sub(userPattern,' USER', tweet)        \n",
    "        # Replace all non alphabets.\n",
    "        tweet = re.sub(alphaPattern, \" \", tweet)\n",
    "        # Replace 3 or more consecutive letters by 2 letter.\n",
    "        tweet = re.sub(sequencePattern, seqReplacePattern, tweet)\n",
    "\n",
    "#         tweetwords = ''\n",
    "#         for word in tweet.split():\n",
    "#             # Checking if the word is a stopword.\n",
    "#             #if word not in stopwordlist:\n",
    "#             if len(word)>1:\n",
    "#                 # Lemmatizing the word.\n",
    "#                 word = wordLemm.lemmatize(word)\n",
    "#                 tweetwords += (word+' ')\n",
    "            \n",
    "        processedText.append(tweet)\n",
    "        \n",
    "    return processedText"
   ]
  },
  {
   "cell_type": "code",
   "execution_count": 223,
   "id": "79cbba99",
   "metadata": {},
   "outputs": [
    {
     "name": "stdout",
     "output_type": "stream",
     "text": [
      "Text Preprocessing complete.\n",
      "Time Taken: 0 seconds\n"
     ]
    },
    {
     "data": {
      "text/html": [
       "<div>\n",
       "<style scoped>\n",
       "    .dataframe tbody tr th:only-of-type {\n",
       "        vertical-align: middle;\n",
       "    }\n",
       "\n",
       "    .dataframe tbody tr th {\n",
       "        vertical-align: top;\n",
       "    }\n",
       "\n",
       "    .dataframe thead th {\n",
       "        text-align: right;\n",
       "    }\n",
       "</style>\n",
       "<table border=\"1\" class=\"dataframe\">\n",
       "  <thead>\n",
       "    <tr style=\"text-align: right;\">\n",
       "      <th></th>\n",
       "      <th>sentiment</th>\n",
       "      <th>user</th>\n",
       "      <th>text</th>\n",
       "      <th>text_bis</th>\n",
       "    </tr>\n",
       "  </thead>\n",
       "  <tbody>\n",
       "    <tr>\n",
       "      <th>0</th>\n",
       "      <td>1</td>\n",
       "      <td>Killandra</td>\n",
       "      <td>@MissBianca76 Yes, talking helps a lot.. going...</td>\n",
       "      <td>@MissBianca76 Yes, talking helps a lot.. going...</td>\n",
       "    </tr>\n",
       "    <tr>\n",
       "      <th>1</th>\n",
       "      <td>1</td>\n",
       "      <td>IMlisacowan</td>\n",
       "      <td>SUNSHINE. livingg itttt. imma lie on the grass...</td>\n",
       "      <td>SUNSHINE. livingg itttt. imma lie on the grass...</td>\n",
       "    </tr>\n",
       "    <tr>\n",
       "      <th>2</th>\n",
       "      <td>1</td>\n",
       "      <td>yaseminx3</td>\n",
       "      <td>@PleaseBeMine Something for your iphone</td>\n",
       "      <td>@PleaseBeMine Something for your iphone</td>\n",
       "    </tr>\n",
       "    <tr>\n",
       "      <th>3</th>\n",
       "      <td>0</td>\n",
       "      <td>no_surprises</td>\n",
       "      <td>@GabrielSaporta couldn't get in to the after p...</td>\n",
       "      <td>@GabrielSaporta couldn't get in to the after p...</td>\n",
       "    </tr>\n",
       "    <tr>\n",
       "      <th>4</th>\n",
       "      <td>0</td>\n",
       "      <td>Rhi_ShortStack</td>\n",
       "      <td>@bradiewebbstack awww is andy being mean again...</td>\n",
       "      <td>@bradiewebbstack awww is andy being mean again...</td>\n",
       "    </tr>\n",
       "  </tbody>\n",
       "</table>\n",
       "</div>"
      ],
      "text/plain": [
       "   sentiment            user  \\\n",
       "0          1       Killandra   \n",
       "1          1     IMlisacowan   \n",
       "2          1       yaseminx3   \n",
       "3          0    no_surprises   \n",
       "4          0  Rhi_ShortStack   \n",
       "\n",
       "                                                text  \\\n",
       "0  @MissBianca76 Yes, talking helps a lot.. going...   \n",
       "1  SUNSHINE. livingg itttt. imma lie on the grass...   \n",
       "2           @PleaseBeMine Something for your iphone    \n",
       "3  @GabrielSaporta couldn't get in to the after p...   \n",
       "4  @bradiewebbstack awww is andy being mean again...   \n",
       "\n",
       "                                            text_bis  \n",
       "0  @MissBianca76 Yes, talking helps a lot.. going...  \n",
       "1  SUNSHINE. livingg itttt. imma lie on the grass...  \n",
       "2           @PleaseBeMine Something for your iphone   \n",
       "3  @GabrielSaporta couldn't get in to the after p...  \n",
       "4  @bradiewebbstack awww is andy being mean again...  "
      ]
     },
     "execution_count": 223,
     "metadata": {},
     "output_type": "execute_result"
    }
   ],
   "source": [
    "\n",
    "import time\n",
    "t = time.time()\n",
    "# for tweet in list(dev_dataset['text']):\n",
    "#     #print(tweet)\n",
    "# df_done['text'] = preprocess(list(df_done['text']))\n",
    "# df_done['text_bis'] = preprocess(list(df_done['text_bis']))\n",
    "\n",
    "print(f'Text Preprocessing complete.')\n",
    "print(f'Time Taken: {round(time.time()-t)} seconds')\n",
    "\n",
    "df_done.head()"
   ]
  },
  {
   "cell_type": "code",
   "execution_count": 224,
   "id": "2d0d8a51",
   "metadata": {},
   "outputs": [
    {
     "name": "stdout",
     "output_type": "stream",
     "text": [
      "<class 'pandas.core.frame.DataFrame'>\n",
      "RangeIndex: 224994 entries, 0 to 224993\n",
      "Data columns (total 4 columns):\n",
      " #   Column     Non-Null Count   Dtype \n",
      "---  ------     --------------   ----- \n",
      " 0   sentiment  224994 non-null  int64 \n",
      " 1   user       224994 non-null  object\n",
      " 2   text       224994 non-null  object\n",
      " 3   text_bis   224994 non-null  object\n",
      "dtypes: int64(1), object(3)\n",
      "memory usage: 6.9+ MB\n"
     ]
    }
   ],
   "source": [
    "df_done.info()"
   ]
  },
  {
   "cell_type": "markdown",
   "id": "47037ecb",
   "metadata": {},
   "source": [
    "### train test split"
   ]
  },
  {
   "cell_type": "code",
   "execution_count": 225,
   "id": "9f8b5204",
   "metadata": {},
   "outputs": [
    {
     "data": {
      "text/plain": [
       "((224994, 3), (224994,))"
      ]
     },
     "execution_count": 225,
     "metadata": {},
     "output_type": "execute_result"
    }
   ],
   "source": [
    "X = df_done.drop(columns=[\"sentiment\"])\n",
    "y = df_done[\"sentiment\"]\n",
    "\n",
    "X.shape, y.shape"
   ]
  },
  {
   "cell_type": "code",
   "execution_count": 226,
   "id": "ed52f719",
   "metadata": {},
   "outputs": [],
   "source": [
    "X_train, X_test, y_train, y_test = train_test_split(X, y, train_size = 0.8, random_state=42, shuffle=True)"
   ]
  },
  {
   "cell_type": "code",
   "execution_count": null,
   "id": "4dc738a6",
   "metadata": {},
   "outputs": [],
   "source": []
  },
  {
   "cell_type": "markdown",
   "id": "ec15cf3d",
   "metadata": {},
   "source": [
    "### Pipeline"
   ]
  },
  {
   "cell_type": "code",
   "execution_count": 227,
   "id": "2acbeb3b",
   "metadata": {},
   "outputs": [
    {
     "name": "stdout",
     "output_type": "stream",
     "text": [
      "F1score : 0.8216246947768097\n"
     ]
    }
   ],
   "source": [
    "tfidf_params = dict(#sublinear_tf= True, \n",
    "                    #use_idf = True,\n",
    "                    #min_df = 2, \n",
    "                    #norm= 'l2', \n",
    "                    # token_pattern=r'\\b[^\\d\\W]+\\b', #remove number\n",
    "                    # stop_words = 'english',\n",
    "                    ngram_range= (1,4)\n",
    "                    )\n",
    "\n",
    "model = make_pipeline(\n",
    "        make_column_transformer(\n",
    "            (TfidfVectorizer(**tfidf_params), \"text\"),\n",
    "            (CountVectorizer(ngram_range=(1, 2), binary=True, strip_accents=\"unicode\"), \"text_bis\"),\n",
    "            (OneHotEncoder(handle_unknown=\"ignore\"), [\"user\"]),\n",
    "            remainder=\"passthrough\"\n",
    "        ),\n",
    "        #LogisticRegression(verbose=1, solver='liblinear', random_state=0, C=6, penalty='l2', max_iter=1000, n_jobs=8)\n",
    "        #MultinomialNB(alpha=0.3),\n",
    "        LogisticRegression(C = 2, max_iter = 1000, n_jobs=-1)\n",
    "        #LinearSVC()\n",
    "    )\n",
    "model.fit(X_train, y_train);\n",
    "\n",
    "# cv_scores = cross_val_score(clf, X_train, y_train, cv=5, scoring='f1_weighted', n_jobs=-1)\n",
    "\n",
    "# print_f1score(cv_scores)\n",
    "\n",
    "\n",
    "F1score = f1_score(y_test, model.predict(X_test), average='macro')\n",
    "print(f\"F1score : {F1score}\")"
   ]
  },
  {
   "cell_type": "code",
   "execution_count": 228,
   "id": "b4694e50",
   "metadata": {},
   "outputs": [
    {
     "name": "stdout",
     "output_type": "stream",
     "text": [
      "File written....\n"
     ]
    }
   ],
   "source": [
    "# evaluation of the model and write to file\n",
    "y_eval = model.predict(df_eval_done)\n",
    "submit = pd.Series(y_eval, range(len(y_eval)))\n",
    "submit.to_csv(\"submit-final.csv\", index_label=\"Id\", header=[\"Predicted\"])\n",
    "print(\"File written....\")"
   ]
  },
  {
   "cell_type": "markdown",
   "id": "e330ef8b",
   "metadata": {},
   "source": [
    "### ROC curve"
   ]
  },
  {
   "cell_type": "code",
   "execution_count": 229,
   "id": "4ab2b109",
   "metadata": {},
   "outputs": [
    {
     "name": "stdout",
     "output_type": "stream",
     "text": [
      "[1 0 0 ... 0 1 0]\n"
     ]
    },
    {
     "data": {
      "text/plain": [
       "[<matplotlib.lines.Line2D at 0x7f0b578a3df0>]"
      ]
     },
     "execution_count": 229,
     "metadata": {},
     "output_type": "execute_result"
    },
    {
     "data": {
      "image/png": "[encoded data removed]",
      "text/plain": [
       "<Figure size 1200x800 with 1 Axes>"
      ]
     },
     "metadata": {
      "needs_background": "light"
     },
     "output_type": "display_data"
    }
   ],
   "source": [
    "y_score = model.predict(X_test) #[:,1]\n",
    "print(y_score)\n",
    "\n",
    "# compute the false positive and true positive rate for the class 'neg'\n",
    "fpr, tpr, thresholds = roc_curve(y_test, y_score)\n",
    "\n",
    "fig, ax = plt.subplots(dpi=200)\n",
    "ax.plot(fpr, tpr)\n",
    "ax.set_xlim(0.0, 1.0)\n",
    "ax.set_ylim(0.0, 1.0)\n",
    "fig.suptitle('ROC curve for negative tweet classifier')\n",
    "ax.grid()\n",
    "ax.spines['top'].set_visible(False)\n",
    "ax.spines['left'].set_visible(False)\n",
    "ax.yaxis.tick_right()\n",
    "ax.set_xlabel('False Positive Rate')\n",
    "ax.set_ylabel('True Positive Rate')\n",
    "ax.yaxis.set_label_position(\"right\")\n",
    "ax.plot(np.linspace(0, 1, 100), np.linspace(0, 1, 100), linestyle='dashed')"
   ]
  },
  {
   "cell_type": "markdown",
   "id": "1290c4d2",
   "metadata": {},
   "source": [
    "### Tuning grid search hyperparameter"
   ]
  },
  {
   "cell_type": "code",
   "execution_count": null,
   "id": "5fdc1cde",
   "metadata": {},
   "outputs": [],
   "source": []
  }
 ],
 "metadata": {
  "kernelspec": {
   "display_name": "Python 3 (ipykernel)",
   "language": "python",
   "name": "python3"
  },
  "language_info": {
   "codemirror_mode": {
    "name": "ipython",
    "version": 3
   },
   "file_extension": ".py",
   "mimetype": "text/x-python",
   "name": "python",
   "nbconvert_exporter": "python",
   "pygments_lexer": "ipython3",
   "version": "3.8.10"
  }
 },
 "nbformat": 4,
 "nbformat_minor": 5
}
